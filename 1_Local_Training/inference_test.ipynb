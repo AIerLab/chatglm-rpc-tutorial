{
 "cells": [
  {
   "cell_type": "code",
   "execution_count": 1,
   "metadata": {},
   "outputs": [
    {
     "name": "stderr",
     "output_type": "stream",
     "text": [
      "/home/project-1/.local/lib/python3.8/site-packages/tqdm/auto.py:21: TqdmWarning: IProgress not found. Please update jupyter and ipywidgets. See https://ipywidgets.readthedocs.io/en/stable/user_install.html\n",
      "  from .autonotebook import tqdm as notebook_tqdm\n"
     ]
    },
    {
     "name": "stdout",
     "output_type": "stream",
     "text": [
      "[2023-08-12 11:52:30,103] [INFO] [real_accelerator.py:133:get_accelerator] Setting ds_accelerator to cuda (auto detect)\n"
     ]
    }
   ],
   "source": [
    "from transformers import AutoTokenizer, AutoModel\n",
    "import json\n",
    "import os\n",
    "import pickle\n",
    "from asyncio import sleep\n",
    "from queue import Queue\n",
    "\n",
    "import torch\n",
    "import torch.nn as nn\n",
    "from tqdm import tqdm\n",
    "\n",
    "from chatglm_6b_split_server import ChatGLMTokenizer, ChatGLMConfig, ChatGLMForConditionalGeneration\n",
    "import os\n",
    "from IPython.display import display, Markdown, clear_output\n",
    "\n",
    "tokenizer_config_path = os.path.join(\"..\",\"..\",\"..\",\"checkpoints\",\"chatglm-6b\", 'tokenizer_config.json')\n",
    "model_config_path = os.path.join(\"..\",\"..\",\"..\",\"checkpoints\",\"chatglm-6b\", 'config.json')\n",
    "token_text_path = os.path.join(\"..\",\"..\",\"..\",\"checkpoints\",\"chatglm-6b\", \"ice_text.model\")\n",
    "model_dir = os.path.join(\"..\",\"..\",\"..\",\"checkpoints\",\"chatglm-6b\")\n",
    "model_state_dict_file_num = 8\n",
    "\n",
    "def load_model():\n",
    "    tokenizer = AutoTokenizer.from_pretrained(model_dir, trust_remote_code=True)\n",
    "    model = AutoModel.from_pretrained(model_dir, trust_remote_code=True).half().cuda()\n",
    "    model = model.eval()\n",
    "    return model, tokenizer"
   ]
  },
  {
   "cell_type": "code",
   "execution_count": 2,
   "metadata": {},
   "outputs": [
    {
     "name": "stderr",
     "output_type": "stream",
     "text": [
      "Loading checkpoint shards:  50%|█████     | 4/8 [00:03<00:03,  1.03it/s]"
     ]
    },
    {
     "name": "stderr",
     "output_type": "stream",
     "text": [
      "Loading checkpoint shards: 100%|██████████| 8/8 [00:06<00:00,  1.17it/s]\n"
     ]
    },
    {
     "name": "stdout",
     "output_type": "stream",
     "text": [
      "ChatGLMForConditionalGeneration(\n",
      "  (transformer): ChatGLMModel(\n",
      "    (word_embeddings): Embedding(130528, 4096)\n",
      "    (layers): ModuleList(\n",
      "      (0-27): 28 x GLMBlock(\n",
      "        (input_layernorm): LayerNorm((4096,), eps=1e-05, elementwise_affine=True)\n",
      "        (attention): SelfAttention(\n",
      "          (rotary_emb): RotaryEmbedding()\n",
      "          (query_key_value): Linear(in_features=4096, out_features=12288, bias=True)\n",
      "          (dense): Linear(in_features=4096, out_features=4096, bias=True)\n",
      "        )\n",
      "        (post_attention_layernorm): LayerNorm((4096,), eps=1e-05, elementwise_affine=True)\n",
      "        (mlp): GLU(\n",
      "          (dense_h_to_4h): Linear(in_features=4096, out_features=16384, bias=True)\n",
      "          (dense_4h_to_h): Linear(in_features=16384, out_features=4096, bias=True)\n",
      "        )\n",
      "      )\n",
      "    )\n",
      "    (final_layernorm): LayerNorm((4096,), eps=1e-05, elementwise_affine=True)\n",
      "  )\n",
      "  (lm_head): Linear(in_features=4096, out_features=130528, bias=False)\n",
      ")\n"
     ]
    }
   ],
   "source": [
    "model, tokenizer = load_model()\n",
    "print(model)"
   ]
  },
  {
   "cell_type": "code",
   "execution_count": 3,
   "metadata": {},
   "outputs": [
    {
     "name": "stderr",
     "output_type": "stream",
     "text": [
      "The dtype of attention mask (torch.int64) is not bool\n"
     ]
    },
    {
     "name": "stdout",
     "output_type": "stream",
     "text": [
      "你好👋！我是人工智能助手 ChatGLM-6B，很高兴见到你，欢迎问我任何问题。\n"
     ]
    }
   ],
   "source": [
    "response, history = model.chat(tokenizer, \"你好\", history=[])\n",
    "print(response)"
   ]
  },
  {
   "cell_type": "code",
   "execution_count": 4,
   "metadata": {},
   "outputs": [
    {
     "data": {
      "text/markdown": [
       "制作宫保鸡丁的具体方法如下：\n",
       "\n",
       "材料：\n",
       "- 鸡胸肉 200 克\n",
       "- 干辣椒 10 个\n",
       "- 葱姜蒜适量\n",
       "- 料酒、盐、糖、生抽、醋、淀粉、油适量\n",
       "\n",
       "步骤：\n",
       "\n",
       "1. 鸡胸肉切成丁，用料酒、盐、淀粉腌制 10 分钟左右；\n",
       "\n",
       "2. 干辣椒剪成段，葱姜蒜切末备用；\n",
       "\n",
       "3. 热锅凉油，将腌制好的鸡丁放入锅中煸炒至变色；\n",
       "\n",
       "4. 盛出备用；\n",
       "\n",
       "5. 锅中留底油，放入葱姜蒜末煸炒出香味，加入干辣椒煸炒至香；\n",
       "\n",
       "6. 将炒好的干辣椒和鸡丁放入锅中，加入适量的生抽、醋、糖、盐、料酒，翻炒均匀；\n",
       "\n",
       "7. 加入适量的水，焖煮 3 分钟左右，收汁即可。\n",
       "\n",
       "温馨提示：\n",
       "\n",
       "1. 干辣椒可以根据个人口味适量调整；\n",
       "\n",
       "2. 鸡丁煸炒至变色即可，过度煸炒会影响口感；\n",
       "\n",
       "3. 焖煮的时间可以根据自己的口感调整，如果喜欢口感脆爽，可以适当延长焖煮时间。"
      ],
      "text/plain": [
       "<IPython.core.display.Markdown object>"
      ]
     },
     "metadata": {},
     "output_type": "display_data"
    }
   ],
   "source": [
    "prompt = \"如何制作宫保鸡丁\"\n",
    "for response, history in model.stream_chat(\n",
    "        tokenizer, prompt, history=[]):\n",
    "    clear_output(wait=True)\n",
    "    display(Markdown(response))"
   ]
  }
 ],
 "metadata": {
  "kernelspec": {
   "display_name": "Python 3",
   "language": "python",
   "name": "python3"
  },
  "language_info": {
   "codemirror_mode": {
    "name": "ipython",
    "version": 3
   },
   "file_extension": ".py",
   "mimetype": "text/x-python",
   "name": "python",
   "nbconvert_exporter": "python",
   "pygments_lexer": "ipython3",
   "version": "3.8.10"
  },
  "orig_nbformat": 4
 },
 "nbformat": 4,
 "nbformat_minor": 2
}
